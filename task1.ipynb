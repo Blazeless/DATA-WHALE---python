{
 "cells": [
  {
   "cell_type": "markdown",
   "metadata": {},
   "source": [
    "# 1.环境搭建"
   ]
  },
  {
   "cell_type": "markdown",
   "metadata": {},
   "source": [
    "#### anaconda环境配置"
   ]
  },
  {
   "cell_type": "markdown",
   "metadata": {},
   "source": [
    "下载安装anaconda，并打开jupyter notebook"
   ]
  },
  {
   "cell_type": "markdown",
   "metadata": {},
   "source": [
    "#### 解释器"
   ]
  },
  {
   "cell_type": "markdown",
   "metadata": {},
   "source": [
    "当我们编写python代码时，我们得到一个包含python代码的以<kbd>.py</kbd>为扩展名的文本文件。要运行代码，就需要Python解释器去执行<kbd>.py</kbd>文件。  \n",
    "如Ipython,Cpython,PyPy,Jython,Ironpython等"
   ]
  },
  {
   "cell_type": "markdown",
   "metadata": {},
   "source": [
    "# 2.python初体验"
   ]
  },
  {
   "cell_type": "markdown",
   "metadata": {},
   "source": [
    "#### print and input"
   ]
  },
  {
   "cell_type": "code",
   "execution_count": 4,
   "metadata": {},
   "outputs": [
    {
     "name": "stdout",
     "output_type": "stream",
     "text": [
      "Wow\n"
     ]
    }
   ],
   "source": [
    "print('Wow')"
   ]
  },
  {
   "cell_type": "code",
   "execution_count": 5,
   "metadata": {},
   "outputs": [
    {
     "name": "stdout",
     "output_type": "stream",
     "text": [
      "what is your name1\n"
     ]
    },
    {
     "data": {
      "text/plain": [
       "'1'"
      ]
     },
     "execution_count": 5,
     "metadata": {},
     "output_type": "execute_result"
    }
   ],
   "source": [
    "a = input('what is your name')\n",
    "a"
   ]
  },
  {
   "cell_type": "markdown",
   "metadata": {},
   "source": [
    "# 3.python基础讲解"
   ]
  },
  {
   "cell_type": "markdown",
   "metadata": {},
   "source": [
    "#### python变量特性+命名规则"
   ]
  },
  {
   "cell_type": "markdown",
   "metadata": {},
   "source": [
    "#### 变量特性\n",
    "python储存数据类型（如整数浮点数字符串）的对象（如元组字典集合）  \n",
    "身份：内存地址，可以用id()获取  \n",
    "类型：决定了该对象可以保存什么类型的数据，可以执行哪些操作，需要遵循什么规则，可以用type()获取  \n",
    "值： 对象保存的真实数据  "
   ]
  },
  {
   "cell_type": "markdown",
   "metadata": {},
   "source": [
    "#### 命名规则\n",
    "变量名只能包含字母、数字和下划线。变量名可以字母或下划线打头，但不能以数字打头。  \n",
    "变量名不能包含空格，但可使用下划线来分隔其中的单词。  \n",
    "不要将Python关键字和函数名用作变量名。  \n",
    "变量名应既简短又具有描述性。  \n",
    "慎用小写字母l和大写字母O，因为它们可能被人错看成数字1和0。  "
   ]
  },
  {
   "cell_type": "markdown",
   "metadata": {},
   "source": [
    "#### 注释方法"
   ]
  },
  {
   "cell_type": "markdown",
   "metadata": {},
   "source": [
    "分为单行注释和多行注释"
   ]
  },
  {
   "cell_type": "code",
   "execution_count": null,
   "metadata": {},
   "outputs": [],
   "source": [
    "#这是单行注释"
   ]
  },
  {
   "cell_type": "code",
   "execution_count": 9,
   "metadata": {},
   "outputs": [
    {
     "data": {
      "text/plain": [
       "'这是多行注释'"
      ]
     },
     "execution_count": 9,
     "metadata": {},
     "output_type": "execute_result"
    }
   ],
   "source": [
    "'''这是多行注释'''"
   ]
  },
  {
   "cell_type": "markdown",
   "metadata": {},
   "source": [
    "#### python中“：”作用"
   ]
  },
  {
   "cell_type": "markdown",
   "metadata": {},
   "source": [
    "1.区分代码间的层次，用于循环判断等语句。  \n",
    "2.用于如列表中的切片  "
   ]
  },
  {
   "cell_type": "code",
   "execution_count": 10,
   "metadata": {},
   "outputs": [
    {
     "name": "stdout",
     "output_type": "stream",
     "text": [
      "[2, 3, 4, 5]\n"
     ]
    }
   ],
   "source": [
    "#1\n",
    "\n",
    "def juy():\n",
    "    pass\n",
    "\n",
    "#2\n",
    "ab = [1,2,3,4,5]\n",
    "print(ab[1:])"
   ]
  },
  {
   "cell_type": "markdown",
   "metadata": {},
   "source": [
    "#### 学会使用dir( )及和help( )"
   ]
  },
  {
   "cell_type": "markdown",
   "metadata": {},
   "source": [
    "dir() 函数不带参数时，返回当前范围内的变量、方法和定义的类型列表；带参数时，返回参数的属性、方法列表。  "
   ]
  },
  {
   "cell_type": "code",
   "execution_count": null,
   "metadata": {},
   "outputs": [],
   "source": [
    "dir()"
   ]
  },
  {
   "cell_type": "code",
   "execution_count": null,
   "metadata": {},
   "outputs": [],
   "source": [
    "dir(1)"
   ]
  },
  {
   "cell_type": "markdown",
   "metadata": {},
   "source": [
    "help() 函数用于查看函数或模块用途的详细说明。"
   ]
  },
  {
   "cell_type": "code",
   "execution_count": null,
   "metadata": {},
   "outputs": [],
   "source": [
    "help(str)"
   ]
  },
  {
   "cell_type": "markdown",
   "metadata": {},
   "source": [
    "#### import使用"
   ]
  },
  {
   "cell_type": "markdown",
   "metadata": {},
   "source": [
    "使用一个模块"
   ]
  },
  {
   "cell_type": "markdown",
   "metadata": {},
   "source": [
    "#### pep8介绍"
   ]
  },
  {
   "cell_type": "markdown",
   "metadata": {},
   "source": [
    "针对python代码格式而编订的风格指南，统一开发规范。"
   ]
  },
  {
   "cell_type": "markdown",
   "metadata": {},
   "source": [
    "# 4.python数值基本知识"
   ]
  },
  {
   "cell_type": "markdown",
   "metadata": {},
   "source": [
    "#### python中数值类型，int，float，bool，e记法等"
   ]
  },
  {
   "cell_type": "markdown",
   "metadata": {},
   "source": [
    "int：整型。如1,2,3等\n",
    "float：浮点数，如5.1\n",
    "bool：布尔数，True=1，False=0\n",
    "e记法：科学技术法，5.3e3=5.3*10^3"
   ]
  },
  {
   "cell_type": "markdown",
   "metadata": {},
   "source": [
    "#### 算数运算符"
   ]
  },
  {
   "cell_type": "markdown",
   "metadata": {},
   "source": [
    "    +\t加法\t\n",
    "    -\t减法\n",
    "    *\t乘法\t\n",
    "    /\t除法\t\n",
    "    **\t幂乘\t\n",
    "    //\t返回商的整数部分（向下取整）\t"
   ]
  },
  {
   "cell_type": "markdown",
   "metadata": {},
   "source": [
    "#### 逻辑运算符"
   ]
  },
  {
   "cell_type": "markdown",
   "metadata": {},
   "source": [
    "and:所有条件为true，则返回true，，否则返回false；\n",
    "\n",
    "or：其中之一条件为true，则返回true，否则返回false；\n",
    "\n",
    "not:如果条件参数结果为true，则返回false，同理结果为false，则返回true"
   ]
  },
  {
   "cell_type": "markdown",
   "metadata": {},
   "source": [
    "#### 成员运算符"
   ]
  },
  {
   "cell_type": "markdown",
   "metadata": {},
   "source": [
    "in：如果在指定的序列中找到值返回 True，否则返回 False。  \n",
    "not in：如果在指定的序列中没有找到值返回 True，否则返回 False。  "
   ]
  },
  {
   "cell_type": "markdown",
   "metadata": {},
   "source": [
    "#### 身份运算符"
   ]
  },
  {
   "cell_type": "markdown",
   "metadata": {},
   "source": [
    "is：判断两个标识符是不是引用自一个对象，如果引用的是同一个对象则返回 True，否则返回 False  \n",
    "is no：是判断两个标识符是不是引用自不同对象，如果引用的不是同一个对象则返回结果 True，否则返回 False。"
   ]
  },
  {
   "cell_type": "markdown",
   "metadata": {},
   "source": [
    "#### 运算符优先级"
   ]
  },
  {
   "cell_type": "markdown",
   "metadata": {},
   "source": [
    "    **\t指数 (最高优先级)  \n",
    "    ~ + -\t按位翻转, 一元加号和减号 (最后两个的方法名为 +@ 和 -@)  \n",
    "    * / % //\t乘，除，取模和取整除  \n",
    "    + -\t加法减法  \n",
    "    >> <<\t右移，左移运算符  \n",
    "    &\t位 'AND'  \n",
    "    ^ |\t位运算符  \n",
    "    <= < > >=\t比较运算符  \n",
    "    <> == !=\t等于运算符  \n",
    "    = %= /= //= -= += *= **=\t赋值运算符  \n",
    "    is is not\t身份运算符  \n",
    "    in not in\t成员运算符  \n",
    "    not and or\t逻辑运算符  "
   ]
  }
 ],
 "metadata": {
  "kernelspec": {
   "display_name": "Python 3",
   "language": "python",
   "name": "python3"
  },
  "language_info": {
   "codemirror_mode": {
    "name": "ipython",
    "version": 3
   },
   "file_extension": ".py",
   "mimetype": "text/x-python",
   "name": "python",
   "nbconvert_exporter": "python",
   "pygments_lexer": "ipython3",
   "version": "3.7.3"
  }
 },
 "nbformat": 4,
 "nbformat_minor": 2
}
