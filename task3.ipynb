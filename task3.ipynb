{
 "cells": [
  {
   "cell_type": "markdown",
   "metadata": {},
   "source": [
    "# 1.dict字典"
   ]
  },
  {
   "cell_type": "markdown",
   "metadata": {},
   "source": [
    "#### 定义"
   ]
  },
  {
   "cell_type": "markdown",
   "metadata": {},
   "source": [
    "字典是一种可变容器，可存储任意类型对象。字典的每个键值对(key: value)用冒号(:)分割，每个对之间用逗号(,)分割，整个字典包括在花括号{}中 。"
   ]
  },
  {
   "cell_type": "markdown",
   "metadata": {},
   "source": [
    "#### 创建"
   ]
  },
  {
   "cell_type": "code",
   "execution_count": null,
   "metadata": {},
   "outputs": [],
   "source": [
    "{ : }"
   ]
  },
  {
   "cell_type": "code",
   "execution_count": null,
   "metadata": {},
   "outputs": [],
   "source": [
    "dict( )"
   ]
  },
  {
   "cell_type": "markdown",
   "metadata": {},
   "source": [
    "#### 字典的方法"
   ]
  },
  {
   "cell_type": "markdown",
   "metadata": {},
   "source": [
    "    d.clear()\t删除字典内所有元素  \n",
    "    \n",
    "    d.copy()\t返回一个字典的浅复制  \n",
    "    \n",
    "    d.fromkeys(seq, value)\t事先定义一个空字典，然后以seq中元素做字典的键，val为字典所有键对应的初始值,如d.fromkeys(['a', 'b'], 10)  \n",
    "    \n",
    "    d.get(key, default=None)\t返回指定键的值，如果值不在字典中返回default值\n",
    "    key in d\t如果键在字典d里返回True，否则返回False  \n",
    "    \n",
    "    d.items()\t以列表返回可遍历的(键, 值) 元组数组  \n",
    "    \n",
    "    d.keys() | d.values()\t返回一个迭代器，存放字典的keys和values，可以使用 list() 来转换为列表  \n",
    "    \n",
    "    d.keys()\t返回一个迭代器，可以使用 list() 来转换为列表  \n",
    "    \n",
    "    d.setdefault(key, default=None)\t和get()类似, 但如果键不存在于字典中，将会添加键并将值设为default  \n",
    "    \n",
    "    d.update(dict2)\t把字典dict2的键/值对批量更新到d里，类似list的extend()、set的update()  \n",
    "    \n",
    "    d.pop(key, default)\t删除字典给定键 key 所对应的值，返回值为被删除的值，设定default则返回default值。若key不存在则报错  \n",
    "    \n",
    "    d.popitem()\t随机返回并删除字典中的一对键和值(一般删除末尾对)  \n",
    "    "
   ]
  },
  {
   "cell_type": "markdown",
   "metadata": {},
   "source": [
    "# 2.集合"
   ]
  },
  {
   "cell_type": "markdown",
   "metadata": {},
   "source": [
    "#### 特性"
   ]
  },
  {
   "cell_type": "markdown",
   "metadata": {},
   "source": [
    "集合（set）是一个无序的（所以不可以用下标索引）不重复元素序列。注意set里面的元素必须是不可变对象（如字符串、数字、元组等），不能包含list、dict等可变对象。"
   ]
  },
  {
   "cell_type": "markdown",
   "metadata": {},
   "source": [
    "#### 创建"
   ]
  },
  {
   "cell_type": "code",
   "execution_count": null,
   "metadata": {},
   "outputs": [],
   "source": [
    "{ }"
   ]
  },
  {
   "cell_type": "code",
   "execution_count": null,
   "metadata": {},
   "outputs": [],
   "source": [
    "set( )"
   ]
  },
  {
   "cell_type": "markdown",
   "metadata": {},
   "source": [
    "#### 方法"
   ]
  },
  {
   "cell_type": "markdown",
   "metadata": {},
   "source": [
    "s.add()\t为集合添加元素,每次添加一个  \n",
    "s.update()\t为集合添加元素,一次可以添加多个，类似于list的extend()、dict的update()  \n",
    "s.clear()\t移除集合中的所有元素  \n",
    "s.copy()\t拷贝一个集合  \n",
    "s.pop()\t随机移除元素  \n",
    "s.discard()\t移除指定元素,若没有不报错  \n",
    "s.remove()\t移除指定元素,若没有则报错  \n",
    "s1.isdisjoint(s2)\t判断两个集合是否包含相同的元素，如果没有返回 True，否则返回 False  \n",
    "s1.issubset(s2)\t判断s1是否为s2的子集  \n",
    "s1.issuperset(s2)\t判断s2是否为s1的子集  \n",
    "s1.union(s2)\t返回两个集合的并集，即s1 | s2  \n",
    "s1.intersection(s2)\t返回s1或s2的交集，即s1 & s2  \n",
    "s1.intersection_update(s2)\t返回s1或s2的交集，并更新给s1  \n",
    "s1.symmetric_difference(s2)\t返回两个集合的对称差集，即s1 ^ s2  \n",
    "s1.symmetric_difference_update(s2)\t返回s1与s2的对称差集，并更新给s1  \n",
    "s1.difference(s2)\t返回s1相对于s2的差集，即s1 - s2  \n",
    "s1.difference_update(s2)\t返回s1相对于s2的差集，并更新给s1  "
   ]
  },
  {
   "cell_type": "markdown",
   "metadata": {},
   "source": [
    "# 3.判断语句（要求掌握多条件判断）"
   ]
  },
  {
   "cell_type": "code",
   "execution_count": 6,
   "metadata": {},
   "outputs": [],
   "source": [
    "a = 1"
   ]
  },
  {
   "cell_type": "code",
   "execution_count": 7,
   "metadata": {},
   "outputs": [
    {
     "name": "stdout",
     "output_type": "stream",
     "text": [
      "a=1\n"
     ]
    }
   ],
   "source": [
    "if a > 1:\n",
    "    print('a>1')\n",
    "elif a < 1:\n",
    "    print(\"a<1\")\n",
    "else:\n",
    "    print(\"a=1\")"
   ]
  },
  {
   "cell_type": "markdown",
   "metadata": {},
   "source": [
    "# 4.三目表达式"
   ]
  },
  {
   "cell_type": "code",
   "execution_count": 9,
   "metadata": {
    "scrolled": true
   },
   "outputs": [
    {
     "data": {
      "text/plain": [
       "20"
      ]
     },
     "execution_count": 9,
     "metadata": {},
     "output_type": "execute_result"
    }
   ],
   "source": [
    "20 if  50 > 25 else 45"
   ]
  },
  {
   "cell_type": "code",
   "execution_count": 11,
   "metadata": {},
   "outputs": [
    {
     "data": {
      "text/plain": [
       "'smile'"
      ]
     },
     "execution_count": 11,
     "metadata": {},
     "output_type": "execute_result"
    }
   ],
   "source": [
    "a = 'cry' if 3 > 4 else 'smile'\n",
    "a"
   ]
  },
  {
   "cell_type": "markdown",
   "metadata": {},
   "source": [
    "# 5.循环语句"
   ]
  },
  {
   "cell_type": "code",
   "execution_count": 13,
   "metadata": {},
   "outputs": [
    {
     "name": "stdout",
     "output_type": "stream",
     "text": [
      "字母 a\n",
      "字母 b\n",
      "字母 c\n"
     ]
    }
   ],
   "source": [
    "# for 循环\n",
    "potato = ['a','b','c']\n",
    "for L in potato:\n",
    "    print('字母',L)"
   ]
  },
  {
   "cell_type": "code",
   "execution_count": 15,
   "metadata": {
    "scrolled": true
   },
   "outputs": [
    {
     "name": "stdout",
     "output_type": "stream",
     "text": [
      "2\n",
      "3\n",
      "4\n",
      "5\n",
      "6\n",
      "7\n",
      "8\n",
      "9\n"
     ]
    }
   ],
   "source": [
    "# while 循环\n",
    "bota = 2\n",
    "while bota < 10:\n",
    "    print(bota)\n",
    "    bota += 1"
   ]
  },
  {
   "cell_type": "markdown",
   "metadata": {},
   "source": [
    "break： 用在for和while循环中，用来终止循环语句，即使没有递归完全也会提前终止。如果使用嵌套循环，break语句将停止执行最深层的循环，并开始执行下一行代码。  \n",
    "continue： 用在for和while循环中，跳过当前循环的剩余语句，然后继续进行下一轮循环。  \n",
    "pass： 不做任何事情，一般用做占位语句，为了保持程序结构的完整性。"
   ]
  },
  {
   "cell_type": "code",
   "execution_count": null,
   "metadata": {},
   "outputs": [],
   "source": [
    "for i in range(5):\n",
    "    print(\"123\")\n",
    "    if i>1:\n",
    "        break               #break跳出（结束）全部for循环（所在的最小循环）\n",
    "    \n",
    "    if i >0: \n",
    "        print('45')\n",
    "        continue\n",
    "    \n",
    "    \n",
    "    \n",
    "print('789')"
   ]
  },
  {
   "cell_type": "code",
   "execution_count": null,
   "metadata": {},
   "outputs": [],
   "source": [
    "for i in range(5):\n",
    "    print(\"123\")\n",
    "    \n",
    "    \n",
    "    if i >0: \n",
    "        print('45')\n",
    "        continue          #continue跳出（结束）本次for循环，并开始下一次此for循环\n",
    "    if i>1:\n",
    "        break\n",
    "    \n",
    "    \n",
    "print('789')"
   ]
  },
  {
   "cell_type": "code",
   "execution_count": 16,
   "metadata": {},
   "outputs": [],
   "source": [
    "for i in range(5):\n",
    "    pass"
   ]
  }
 ],
 "metadata": {
  "kernelspec": {
   "display_name": "Python 3",
   "language": "python",
   "name": "python3"
  },
  "language_info": {
   "codemirror_mode": {
    "name": "ipython",
    "version": 3
   },
   "file_extension": ".py",
   "mimetype": "text/x-python",
   "name": "python",
   "nbconvert_exporter": "python",
   "pygments_lexer": "ipython3",
   "version": "3.7.3"
  }
 },
 "nbformat": 4,
 "nbformat_minor": 2
}
