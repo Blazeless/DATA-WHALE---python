{
 "cells": [
  {
   "cell_type": "markdown",
   "metadata": {},
   "source": [
    "# 1.函数关键字"
   ]
  },
  {
   "cell_type": "code",
   "execution_count": null,
   "metadata": {},
   "outputs": [],
   "source": [
    "def"
   ]
  },
  {
   "cell_type": "markdown",
   "metadata": {},
   "source": [
    "# 2.函数的定义"
   ]
  },
  {
   "cell_type": "markdown",
   "metadata": {},
   "source": [
    "函数是组织好的，可重复使用的，用来实现单一，或相关联功能的代码段。"
   ]
  },
  {
   "cell_type": "code",
   "execution_count": 1,
   "metadata": {},
   "outputs": [],
   "source": [
    "def kali():\n",
    "    print('zff')"
   ]
  },
  {
   "cell_type": "code",
   "execution_count": 2,
   "metadata": {},
   "outputs": [
    {
     "name": "stdout",
     "output_type": "stream",
     "text": [
      "zff\n"
     ]
    }
   ],
   "source": [
    "kali()"
   ]
  },
  {
   "cell_type": "code",
   "execution_count": 3,
   "metadata": {},
   "outputs": [],
   "source": [
    "def sum(a, b):\n",
    "    return a + b"
   ]
  },
  {
   "cell_type": "code",
   "execution_count": 4,
   "metadata": {},
   "outputs": [
    {
     "data": {
      "text/plain": [
       "7"
      ]
     },
     "execution_count": 4,
     "metadata": {},
     "output_type": "execute_result"
    }
   ],
   "source": [
    "sum(2,5)"
   ]
  },
  {
   "cell_type": "markdown",
   "metadata": {},
   "source": [
    "# 3.函数参数与作用域"
   ]
  },
  {
   "cell_type": "code",
   "execution_count": 5,
   "metadata": {},
   "outputs": [
    {
     "data": {
      "text/plain": [
       "6"
      ]
     },
     "execution_count": 5,
     "metadata": {},
     "output_type": "execute_result"
    }
   ],
   "source": [
    "#关键字参数\n",
    "def f(a,b,c):\n",
    "    return a+b+c\n",
    "f(1,2,3)"
   ]
  },
  {
   "cell_type": "code",
   "execution_count": 6,
   "metadata": {},
   "outputs": [],
   "source": [
    "#默认参数\n",
    "def g(a,b=6,c=9):\n",
    "    print(a,b,c)"
   ]
  },
  {
   "cell_type": "code",
   "execution_count": 7,
   "metadata": {},
   "outputs": [
    {
     "name": "stdout",
     "output_type": "stream",
     "text": [
      "1 6 9\n"
     ]
    }
   ],
   "source": [
    "g(1)"
   ]
  },
  {
   "cell_type": "code",
   "execution_count": 8,
   "metadata": {},
   "outputs": [
    {
     "name": "stdout",
     "output_type": "stream",
     "text": [
      "2 4 9\n"
     ]
    }
   ],
   "source": [
    "g(2,4)"
   ]
  },
  {
   "cell_type": "code",
   "execution_count": 9,
   "metadata": {},
   "outputs": [
    {
     "name": "stdout",
     "output_type": "stream",
     "text": [
      "6 4 5\n"
     ]
    }
   ],
   "source": [
    "g(6,4,5)"
   ]
  },
  {
   "cell_type": "markdown",
   "metadata": {},
   "source": [
    "##### ------------------------------------------------------"
   ]
  },
  {
   "cell_type": "markdown",
   "metadata": {},
   "source": [
    "作用域"
   ]
  },
  {
   "cell_type": "markdown",
   "metadata": {},
   "source": [
    "变量再函数内部定义的称为局部变量，只在函数内部有效。 一旦函数执行完毕，局部变量就会被收回，无法访问。  \n",
    "写在函数外的就是全局变量，可以在文件内的任何地方被访问，当然在函数内部也可以。 需要注意的是不能在函数内部随意改变全局变量的值。会报错。"
   ]
  },
  {
   "cell_type": "code",
   "execution_count": 10,
   "metadata": {},
   "outputs": [
    {
     "name": "stdout",
     "output_type": "stream",
     "text": [
      "main1 全局hello main 2222577591328\n",
      "func 全局hello main 2222577591328\n",
      "main2 全局hello main 2222577591328\n"
     ]
    }
   ],
   "source": [
    "def func():\n",
    "    print('func',x,id(x))\n",
    "    \n",
    "x = '全局hello main'\n",
    "print('main1',x,id(x))\n",
    "func()\n",
    "print('main2',x,id(x))"
   ]
  },
  {
   "cell_type": "code",
   "execution_count": 11,
   "metadata": {},
   "outputs": [
    {
     "name": "stdout",
     "output_type": "stream",
     "text": [
      "main1 全局hello main 2222577591776\n",
      "func ①hello func 2222577558176\n",
      "main2 全局hello main 2222577591776\n"
     ]
    }
   ],
   "source": [
    "def func():\n",
    "    x = '①hello func'\n",
    "    print('func',x,id(x))\n",
    "    \n",
    "x = '全局hello main'\n",
    "print('main1',x,id(x))\n",
    "func()\n",
    "print('main2',x,id(x))"
   ]
  },
  {
   "cell_type": "markdown",
   "metadata": {},
   "source": [
    "引入global：global关键字修饰函数内部变量后标志其是全局变量（这里不能说global将x从局部变量改为了全局变量）"
   ]
  },
  {
   "cell_type": "code",
   "execution_count": 12,
   "metadata": {},
   "outputs": [
    {
     "name": "stdout",
     "output_type": "stream",
     "text": [
      "main1 全局hello main 2222577591328\n",
      "func ①hello func 2222577559112\n",
      "main2 ①hello func 2222577559112\n"
     ]
    }
   ],
   "source": [
    "def func():                  #加入 global才能改变全局变量\n",
    "    global x\n",
    "    x = '①hello func'\n",
    "    print('func',x,id(x))\n",
    "    \n",
    "x = '全局hello main'\n",
    "print('main1',x,id(x))\n",
    "func()\n",
    "print('main2',x,id(x))"
   ]
  },
  {
   "cell_type": "markdown",
   "metadata": {},
   "source": [
    "# 4.函数返回值"
   ]
  },
  {
   "cell_type": "markdown",
   "metadata": {},
   "source": [
    "函数体中 return 语句有指定返回值时返回的就是其值"
   ]
  },
  {
   "cell_type": "code",
   "execution_count": 13,
   "metadata": {},
   "outputs": [
    {
     "name": "stdout",
     "output_type": "stream",
     "text": [
      "函数内 :  30\n",
      "函数外 :  30\n"
     ]
    }
   ],
   "source": [
    "def sum( arg1, arg2 ):\n",
    "    # 返回2个参数的和.\"\n",
    "    total = arg1 + arg2\n",
    "    print(\"函数内 : \", total)\n",
    "    return total\n",
    "# 调用sum函数\n",
    "total = sum( 10, 20 )\n",
    "print (\"函数外 : \", total)"
   ]
  },
  {
   "cell_type": "code",
   "execution_count": 14,
   "metadata": {},
   "outputs": [
    {
     "name": "stdout",
     "output_type": "stream",
     "text": [
      "函数内 :  30\n",
      "函数外 :  None\n"
     ]
    }
   ],
   "source": [
    "def sum( arg1, arg2 ):\n",
    "    # 返回2个参数的和.\"\n",
    "    total = arg1 + arg2\n",
    "    print(\"函数内 : \", total)\n",
    "    \n",
    "# 调用sum函数\n",
    "total = sum( 10, 20 )\n",
    "print (\"函数外 : \", total)"
   ]
  },
  {
   "cell_type": "code",
   "execution_count": 15,
   "metadata": {},
   "outputs": [
    {
     "name": "stdout",
     "output_type": "stream",
     "text": [
      "......\n",
      "300\n"
     ]
    }
   ],
   "source": [
    "#函数中return作用\n",
    "#1.返回函数执行的结果\n",
    "def test1(a,b):\n",
    "    print('......')\n",
    "    return a+b\n",
    "rs = test1(100,200)\n",
    "print(rs)"
   ]
  },
  {
   "cell_type": "code",
   "execution_count": 16,
   "metadata": {},
   "outputs": [
    {
     "name": "stdout",
     "output_type": "stream",
     "text": [
      "-----\n"
     ]
    }
   ],
   "source": [
    "#2.结束函数的执行\n",
    "def test2(a):\n",
    "    print('-----')\n",
    "    if a == 10:\n",
    "        return\n",
    "    #return下方的代码就不会在执行了\n",
    "    print('************')\n",
    "test2(10)"
   ]
  },
  {
   "cell_type": "code",
   "execution_count": 17,
   "metadata": {},
   "outputs": [
    {
     "name": "stdout",
     "output_type": "stream",
     "text": [
      "(1, 2, 3, 4, 5, 6, 7, 8, 9)\n"
     ]
    }
   ],
   "source": [
    "#3.在函数中，返回多个值,返回的多个值，放在一个元组里\n",
    "def test3():\n",
    "    return 1,2,3,4,5,6,7,8,9\n",
    "rs = test3()\n",
    "print(rs)"
   ]
  },
  {
   "cell_type": "markdown",
   "metadata": {},
   "source": [
    "# 5.file"
   ]
  },
  {
   "cell_type": "markdown",
   "metadata": {},
   "source": [
    "#### 打开文件方式（读写两种方式）"
   ]
  },
  {
   "cell_type": "code",
   "execution_count": null,
   "metadata": {},
   "outputs": [],
   "source": [
    "try:\n",
    "    f = open('/path/to/file', 'r')\n",
    "    print(f.read())\n",
    "finally:\n",
    "    if f:\n",
    "        f.close()"
   ]
  },
  {
   "cell_type": "code",
   "execution_count": null,
   "metadata": {},
   "outputs": [],
   "source": [
    "with open('/path/to/file', 'r') as f:\n",
    "    print(f.read())"
   ]
  },
  {
   "cell_type": "markdown",
   "metadata": {},
   "source": [
    "#### 文件对象的操作方法"
   ]
  },
  {
   "cell_type": "markdown",
   "metadata": {},
   "source": [
    "r  以只读方式打开  \n",
    "rU 或 Ua 以读方式打开, 同时提供通用换行符支持 (PEP 278)  \n",
    "w  以写方式打开 (必要时清空)  \n",
    "a  以追加模式打开 (从 EOF 开始, 必要时创建新文件)  \n",
    "r+ 以读写模式打开  \n",
    "w+ 以读写模式打开 (参见 w )  \n",
    "a+ 以读写模式打开 (参见 a )  \n",
    "rb 以二进制读模式打开  \n",
    "wb 以二进制写模式打开 (参见 w )  \n",
    "ab 以二进制追加模式打开 (参见 a )  \n",
    "rb+ 以二进制读写模式打开 (参见 r+ )  \n",
    "wb+ 以二进制读写模式打开 (参见 w+ )  \n",
    "ab+ 以二进制读写模式打开 (参见 a+ )  \n",
    "x    如果文件存在报错，不存在则创建  "
   ]
  },
  {
   "cell_type": "markdown",
   "metadata": {},
   "source": [
    "#### 学习对excel及csv文件进行操作"
   ]
  },
  {
   "cell_type": "code",
   "execution_count": null,
   "metadata": {},
   "outputs": [],
   "source": [
    "import xlrd, xlwt   #xlwt只能写入xls文件\n",
    "\n",
    "#读取xlsx文件内容\n",
    "rows = []   #create an empty list to store rows\n",
    "book = xlrd.open_workbook('testdata.xlsx')  #open the Excel spreadsheet as workbook\n",
    "sheet = book.sheet_by_index(0)    #get the first sheet\n",
    "for user in range(1, sheet.nrows):  #iterate 1 to maxrows\n",
    "    rows.append(list(sheet.row_values(user, 0, sheet.ncols)))  #iterate through the sheet and get data from rows in list\n",
    "print(rows)\n",
    "\n",
    "#写入xls文件\n",
    "rows1 = [['Name', 'Age'],['fengju', '26'],['wuxia', '25']]\n",
    "book1 = xlwt.Workbook()   #create new book1 excle\n",
    "sheet1 = book1.add_sheet('user')   #create new sheet\n",
    "for i in range(0, 3):    \n",
    "    for j in range(0, len(rows1[i])):\n",
    "        sheet1.write(i, j, rows1[i][j])\n",
    "book1.save('testdata1.xls')   #sava as testdata1.xls"
   ]
  },
  {
   "cell_type": "code",
   "execution_count": null,
   "metadata": {},
   "outputs": [],
   "source": [
    "import csv\n",
    "\n",
    "#读取csv文件内容方法1\n",
    "csv_file = csv.reader(open('testdata.csv','r'))\n",
    "next(csv_file, None)    #skip the headers\n",
    "for user in csv_file:\n",
    "    print(user)\n",
    "\n",
    "#读取csv文件内容方法2\n",
    "with open('testdata.csv', 'r') as csv_file:\n",
    "    reader = csv.reader(csv_file)\n",
    "    next(csv_file, None)\n",
    "    for user in reader:\n",
    "        print(user)\n",
    "\n",
    "#从字典写入csv文件\n",
    "dic = {'fengju':25, 'wuxia':26}\n",
    "csv_file = open('testdata1.csv', 'w', newline='')\n",
    "writer = csv.writer(csv_file)\n",
    "for key in dic:\n",
    "    writer.writerow([key, dic[key]])\n",
    "csv_file.close()   #close CSV file\n",
    "\n",
    "csv_file1 = csv.reader(open('testdata1.csv','r'))\n",
    "for user in csv_file1:\n",
    "    print(user)"
   ]
  },
  {
   "cell_type": "markdown",
   "metadata": {},
   "source": [
    "# 6.os模块"
   ]
  },
  {
   "cell_type": "code",
   "execution_count": null,
   "metadata": {},
   "outputs": [],
   "source": [
    "import os"
   ]
  },
  {
   "cell_type": "markdown",
   "metadata": {},
   "source": [
    "os.sep:取代操作系统特定的路径分隔符  \n",
    "os.name:指示你正在使用的工作平台。比如对于Windows，它是'nt'，而对于Linux/Unix用户，它是'posix'。  \n",
    "os.getcwd:得到当前工作目录，即当前python脚本工作的目录路径。  \n",
    "os.getenv()和os.putenv:分别用来读取和设置环境变量  \n",
    "os.listdir():返回指定目录下的所有文件和目录名  \n",
    "os.remove(file):删除一个文件  \n",
    "os.stat（file）:获得文件属性  \n",
    "os.chmod(file):修改文件权限和时间戳  \n",
    "os.mkdir(name):创建目录  \n",
    "os.rmdir(name):删除目录  \n",
    "os.removedirs（r“c：\\python”）:删除多个目录  \n",
    "os.system():运行shell命令  \n",
    "os.exit():终止当前进程  \n",
    "os.linesep:给出当前平台的行终止符。例如，Windows使用'\\r\\n'，Linux使用'\\n'而Mac使用'\\r'  \n",
    "os.path.split():返回一个路径的目录名和文件名  \n",
    "os.path.isfile()和os.path.isdir()分别检验给出的路径是一个目录还是文件  \n",
    "os.path.existe():检验给出的路径是否真的存在  \n",
    "os.listdir(dirname):列出dirname下的目录和文件  \n",
    "os.getcwd():获得当前工作目录  \n",
    "os.curdir:返回当前目录（'.'）  \n",
    "os.chdir(dirname):改变工作目录到dirname  \n",
    "os.path.isdir(name):判断name是不是目录，不是目录就返回false  \n",
    "os.path.isfile(name):判断name这个文件是否存在，不存在返回false  \n",
    "os.path.exists(name):判断是否存在文件或目录name  \n",
    "os.path.getsize(name):或得文件大小，如果name是目录返回0L  \n",
    "os.path.abspath(name):获得绝对路径  \n",
    "os.path.isabs():判断是否为绝对路径  \n",
    "os.path.normpath(path):规范path字符串形式  \n",
    "os.path.split(name):分割文件名与目录（事实上，如果你完全使用目录，它也会将最后一个目录作为文件名而分离，同时它不会判断文件或目录是否存在）  \n",
    "os.path.splitext():分离文件名和扩展名  \n",
    "os.path.join(path,name):连接目录与文件名或目录  \n",
    "os.path.basename(path):返回文件名  \n",
    "os.path.dirname(path):返回文件路径  "
   ]
  }
 ],
 "metadata": {
  "kernelspec": {
   "display_name": "Python 3",
   "language": "python",
   "name": "python3"
  },
  "language_info": {
   "codemirror_mode": {
    "name": "ipython",
    "version": 3
   },
   "file_extension": ".py",
   "mimetype": "text/x-python",
   "name": "python",
   "nbconvert_exporter": "python",
   "pygments_lexer": "ipython3",
   "version": "3.7.3"
  }
 },
 "nbformat": 4,
 "nbformat_minor": 2
}
